{
 "cells": [
  {
   "cell_type": "markdown",
   "metadata": {},
   "source": [
    "## TF-IDF and Count Vectorizer Implementation"
   ]
  },
  {
   "cell_type": "code",
   "execution_count": 1,
   "metadata": {},
   "outputs": [
    {
     "data": {
      "text/plain": [
       "['../joblib_files/clean_test_FE_features.joblib']"
      ]
     },
     "execution_count": 1,
     "metadata": {},
     "output_type": "execute_result"
    }
   ],
   "source": [
    "import numpy as np\n",
    "import pandas as pd\n",
    "import joblib\n",
    "from sklearn.feature_extraction.text import TfidfVectorizer\n",
    "from sklearn.feature_extraction.text import CountVectorizer\n",
    "from scipy.sparse import hstack\n",
    "from pickle import load, dump\n",
    "from sklearn.metrics import accuracy_score\n",
    "from joblib import load, dump\n",
    "\n",
    "# load in saved pickle training and testing files\n",
    "clean_train = pd.read_pickle(\"../pkl_files/clean_train.pkl\")\n",
    "clean_test = pd.read_pickle(\"../pkl_files/clean_test.pkl\")\n",
    "\n",
    "# set target as the training y values for clarity and save to repo\n",
    "target = clean_train[\"target\"]\n",
    "dump(target, \"../pkl_files/target.pkl\")\n",
    "\n",
    "# load in clean_train.fe and clean_test.fe time\n",
    "clean_train_FE = pd.read_pickle(\"../pkl_files/clean_train_FE.pkl\")\n",
    "clean_test_FE = pd.read_pickle(\"../pkl_files/clean_test_FE.pkl\")\n",
    "\n",
    "# extract the new columns that need to be added to vectorized data (only needs to happen 1x for test and 1x for train)\n",
    "new_feature_columns = ['capitalization_ratio', 'text_word_count', 'location_null', 'keyword_assoc_real_news', 'keyword_assoc_fake_news']  # Adjust as needed\n",
    "\n",
    "# Extract the new features without redundancy\n",
    "clean_train_FE_features = clean_train_FE[new_feature_columns]\n",
    "clean_test_FE_features = clean_test_FE[new_feature_columns]\n",
    "\n",
    "# save as pickle\n",
    "dump(clean_train_FE_features, \"../joblib_files/clean_train_FE_features.joblib\")\n",
    "dump(clean_test_FE_features, \"../joblib_files/clean_test_FE_features.joblib\")"
   ]
  },
  {
   "cell_type": "markdown",
   "metadata": {},
   "source": [
    "## Apply TF-IDF Vectorizer\n",
    "Using the clean, but not feature engineered data"
   ]
  },
  {
   "cell_type": "code",
   "execution_count": 2,
   "metadata": {},
   "outputs": [
    {
     "name": "stdout",
     "output_type": "stream",
     "text": [
      "Shape of combined feature matrix: (7613, 23211)\n"
     ]
    }
   ],
   "source": [
    "# Initialize the TfidfVectorizer for text columns\n",
    "tfidf_vectorizer = TfidfVectorizer(stop_words='english')\n",
    "\n",
    "# Combine the columns containing text into one before applying TD-IDF Vectorizer\n",
    "data_combined = clean_train[['keyword', 'location', 'text']].agg(' '.join, axis=1)\n",
    "\n",
    "# Vectorize 'keyword', 'location', and 'text' columns for training data\n",
    "X_train_tfidf = tfidf_vectorizer.fit_transform(data_combined)\n",
    "joblib.dump(X_train_tfidf, '../joblib_files/X_train_tfidf.joblib') # Save for EDA\n",
    "\n",
    "# Check the shape of the resulting feature matrix\n",
    "print(f\"Shape of combined feature matrix: {X_train_tfidf.shape}\")\n",
    "\n",
    "# Save the TF-IDF vectorizer\n",
    "with open('../pkl_files/tfidf_vectorizer.pkl', 'wb') as f:\n",
    "    dump(tfidf_vectorizer, f)"
   ]
  },
  {
   "cell_type": "markdown",
   "metadata": {},
   "source": [
    "Now, we will combine the feature engineered training data with the TF-IDF vectorized training data."
   ]
  },
  {
   "cell_type": "code",
   "execution_count": 3,
   "metadata": {},
   "outputs": [],
   "source": [
    "# merge with clean test fe and save\n",
    "model_train_tfidf = hstack([X_train_tfidf, clean_train_FE_features])\n",
    "with open('../pkl_files/model_train_tfidf.pkl', 'wb') as f:\n",
    "    dump(model_train_tfidf, f)"
   ]
  },
  {
   "cell_type": "markdown",
   "metadata": {},
   "source": [
    "Using the same TD-IDF vectorizer as above, vectorize the text columns in the test dataset."
   ]
  },
  {
   "cell_type": "code",
   "execution_count": 4,
   "metadata": {},
   "outputs": [
    {
     "name": "stdout",
     "output_type": "stream",
     "text": [
      "Shape of combined feature matrix: (3263, 23211)\n"
     ]
    }
   ],
   "source": [
    "# Combine the columns containing text into one before applying TD-IDF Vectorizer\n",
    "data_combined_test = clean_test[['keyword', 'location', 'text']].agg(' '.join, axis=1)\n",
    "\n",
    "# Vectorize 'keyword', 'location', and 'text' columns for test data\n",
    "X_test_tfidf = tfidf_vectorizer.transform(data_combined_test)\n",
    "\n",
    "# Check the shape of the resulting feature matrix\n",
    "print(f\"Shape of combined feature matrix: {X_test_tfidf.shape}\")"
   ]
  },
  {
   "cell_type": "markdown",
   "metadata": {},
   "source": [
    "Now, combine the feature engineered test data with the TF-IDF vectorized test data"
   ]
  },
  {
   "cell_type": "code",
   "execution_count": 5,
   "metadata": {},
   "outputs": [],
   "source": [
    "# merge with clean test fe and save\n",
    "model_test_tfidf = hstack([X_test_tfidf, clean_test_FE_features])\n",
    "with open('../pkl_files/model_test_tfidf.pkl', 'wb') as f:\n",
    "    dump(model_test_tfidf, f)"
   ]
  },
  {
   "cell_type": "markdown",
   "metadata": {},
   "source": [
    "## Apply CountVectorizer"
   ]
  },
  {
   "cell_type": "code",
   "execution_count": 6,
   "metadata": {},
   "outputs": [
    {
     "name": "stdout",
     "output_type": "stream",
     "text": [
      "Shape of combined feature matrix: (7613, 23211)\n"
     ]
    }
   ],
   "source": [
    "# Initialize the CountVectorizer for text columns\n",
    "count_vectorizer = CountVectorizer(stop_words='english')\n",
    "\n",
    "# Vectorize 'keyword', 'location', and 'text' columns for training data using previously generated combined text data\n",
    "X_train_count = count_vectorizer.fit_transform(data_combined)\n",
    "joblib.dump(X_train_count, '../joblib_files/X_train_count.joblib') # Save for EDA\n",
    "\n",
    "# Check the shape of the resulting feature matrix\n",
    "print(f\"Shape of combined feature matrix: {X_train_count.shape}\")\n",
    "\n",
    "# Save the Count vectorizer\n",
    "with open('../pkl_files/count_vectorizer.pkl', 'wb') as f:\n",
    "    dump(count_vectorizer, f)"
   ]
  },
  {
   "cell_type": "markdown",
   "metadata": {},
   "source": [
    "Now, we will combine the feature engineered training data with the Count vectorized training data."
   ]
  },
  {
   "cell_type": "code",
   "execution_count": 7,
   "metadata": {},
   "outputs": [],
   "source": [
    "# do above and save as object\n",
    "model_train_count = hstack([X_train_count, clean_train_FE_features])\n",
    "with open('../pkl_files/model_train_count.pkl', 'wb') as f:\n",
    "    dump(model_train_count, f)"
   ]
  },
  {
   "cell_type": "code",
   "execution_count": 8,
   "metadata": {},
   "outputs": [
    {
     "name": "stdout",
     "output_type": "stream",
     "text": [
      "Shape of combined feature matrix: (3263, 23211)\n"
     ]
    }
   ],
   "source": [
    "# Vectorize 'keyword', 'location', and 'text' columns for test data using previously generated combined text data\n",
    "X_test_count = count_vectorizer.transform(data_combined_test)\n",
    "\n",
    "# Check the shape of the resulting feature matrix\n",
    "print(f\"Shape of combined feature matrix: {X_test_count.shape}\")"
   ]
  },
  {
   "cell_type": "markdown",
   "metadata": {},
   "source": [
    "Now, we will combine the feature engineered test data with the Count vectorized test data."
   ]
  },
  {
   "cell_type": "code",
   "execution_count": 9,
   "metadata": {},
   "outputs": [],
   "source": [
    "# do above and save as object\n",
    "model_test_count = hstack([X_test_count, clean_test_FE_features])\n",
    "with open('../pkl_files/model_test_count.pkl', 'wb') as f:\n",
    "    dump(model_test_count, f)"
   ]
  }
 ],
 "metadata": {
  "kernelspec": {
   "display_name": "Python 3",
   "language": "python",
   "name": "python3"
  },
  "language_info": {
   "codemirror_mode": {
    "name": "ipython",
    "version": 3
   },
   "file_extension": ".py",
   "mimetype": "text/x-python",
   "name": "python",
   "nbconvert_exporter": "python",
   "pygments_lexer": "ipython3",
   "version": "3.11.2"
  }
 },
 "nbformat": 4,
 "nbformat_minor": 2
}
