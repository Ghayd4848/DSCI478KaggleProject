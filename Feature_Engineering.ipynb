{
 "cells": [
  {
   "cell_type": "markdown",
   "metadata": {},
   "source": [
    "## Feature Engineering"
   ]
  },
  {
   "cell_type": "code",
   "execution_count": 27,
   "metadata": {},
   "outputs": [],
   "source": [
    "import numpy as np\n",
    "import pandas as pd\n",
    "from sklearn.feature_extraction.text import TfidfVectorizer\n",
    "from sklearn.feature_extraction.text import CountVectorizer\n",
    "from scipy.sparse import hstack\n",
    "from pickle import load, dump\n",
    "from sklearn.metrics import accuracy_score\n",
    "\n",
    "# load in clean test and clean train\n",
    "clean_train = pd.read_pickle(\"clean_train.pkl\")\n",
    "clean_test = pd.read_pickle(\"clean_test.pkl\")"
   ]
  },
  {
   "cell_type": "markdown",
   "metadata": {},
   "source": [
    "Now, we want to add more features for enhanced predictability. To start, we will add a binary predictor to indicate whether the location is \"null\" in the corresponding observation."
   ]
  },
  {
   "cell_type": "code",
   "execution_count": 22,
   "metadata": {},
   "outputs": [],
   "source": [
    "# add binary predictor to indicate whether location is missing\n",
    "clean_train['location_null'] = clean_train['location'].isnull().astype(int)\n",
    "clean_test['location_null'] = clean_test['location'].isnull().astype(int)"
   ]
  },
  {
   "cell_type": "code",
   "execution_count": 23,
   "metadata": {},
   "outputs": [],
   "source": [
    "# how many words in a tweet\n",
    "def count_words(text):\n",
    "    if isinstance(text, str):  # Check if the entry is a string\n",
    "        return len(text.split())  # Split the string by whitespace and count the parts\n",
    "    else:\n",
    "        return 0 \n",
    "    \n",
    "\n",
    "clean_train['text_word_count'] = clean_train['text'].apply(count_words)\n",
    "clean_test['text_word_count'] = clean_test['text'].apply(count_words)"
   ]
  },
  {
   "cell_type": "code",
   "execution_count": 24,
   "metadata": {},
   "outputs": [
    {
     "name": "stdout",
     "output_type": "stream",
     "text": [
      "                                                text  capitalization_binary\n",
      "0  Our Deeds are the Reason of this #earthquake M...                      0\n",
      "1             Forest fire near La Ronge Sask. Canada                      0\n",
      "2  All residents asked to 'shelter in place' are ...                      0\n",
      "3  13,000 people receive #wildfires evacuation or...                      0\n",
      "4  Just got sent this photo from Ruby #Alaska as ...                      0\n",
      "                                                text  capitalization_binary\n",
      "0                 Just happened a terrible car crash                      0\n",
      "1  Heard about #earthquake is different cities, s...                      0\n",
      "2  there is a forest fire at spot pond, geese are...                      0\n",
      "3           Apocalypse lighting. #Spokane #wildfires                      0\n",
      "4      Typhoon Soudelor kills 28 in China and Taiwan                      0\n"
     ]
    }
   ],
   "source": [
    "# Binary Capitalization Ratio Function\n",
    "def binary_capitalization_ratio(text, threshold=0.2):\n",
    "    if isinstance(text, str) and len(text) > 0:  # Check if it's a string and not empty\n",
    "        uppercase_count = sum(1 for char in text if char.isupper())  # Count uppercase characters\n",
    "        total_count = sum(1 for char in text if char.isalpha())  # Count total alphabetic characters\n",
    "        ratio = uppercase_count / total_count if total_count > 0 else 0  # Calculate ratio\n",
    "        return 1 if ratio > threshold else 0  # Convert to binary based on threshold\n",
    "    else:\n",
    "        return 0  # Handle non-string or empty cases\n",
    "\n",
    "# Applying the function to create a binary column in both training and testing datasets\n",
    "clean_train['capitalization_binary'] = clean_train['text'].apply(lambda x: binary_capitalization_ratio(x, threshold=0.2))\n",
    "clean_test['capitalization_binary'] = clean_test['text'].apply(lambda x: binary_capitalization_ratio(x, threshold=0.2))\n",
    "\n",
    "# Displaying the results\n",
    "print(clean_train[['text', 'capitalization_binary']].head())\n",
    "print(clean_test[['text', 'capitalization_binary']].head())"
   ]
  },
  {
   "cell_type": "code",
   "execution_count": 25,
   "metadata": {},
   "outputs": [],
   "source": [
    "# other features here"
   ]
  },
  {
   "cell_type": "markdown",
   "metadata": {},
   "source": [
    "Now, save these clean test and train datasets with the new features included. This is done below. "
   ]
  },
  {
   "cell_type": "code",
   "execution_count": 26,
   "metadata": {},
   "outputs": [],
   "source": [
    "# save after all features have been added\n",
    "clean_train.to_pickle(\"clean_train_FE.pkl\")\n",
    "clean_test.to_pickle(\"clean_test_FE.pkl\")"
   ]
  }
 ],
 "metadata": {
  "kernelspec": {
   "display_name": "Python 3",
   "language": "python",
   "name": "python3"
  },
  "language_info": {
   "codemirror_mode": {
    "name": "ipython",
    "version": 3
   },
   "file_extension": ".py",
   "mimetype": "text/x-python",
   "name": "python",
   "nbconvert_exporter": "python",
   "pygments_lexer": "ipython3",
   "version": "3.12.1"
  }
 },
 "nbformat": 4,
 "nbformat_minor": 2
}
