{
 "cells": [
  {
   "cell_type": "markdown",
   "metadata": {},
   "source": [
    "## Feature Engineering"
   ]
  },
  {
   "cell_type": "code",
   "execution_count": 22,
   "metadata": {},
   "outputs": [],
   "source": [
    "import numpy as np\n",
    "import pandas as pd\n",
    "from sklearn.feature_extraction.text import TfidfVectorizer\n",
    "from sklearn.feature_extraction.text import CountVectorizer\n",
    "from scipy.sparse import hstack\n",
    "from pickle import load, dump\n",
    "from sklearn.metrics import accuracy_score\n",
    "\n",
    "# load in clean test and clean train\n",
    "clean_train = pd.read_pickle(\"clean_train.pkl\")\n",
    "clean_test = pd.read_pickle(\"clean_test.pkl\")"
   ]
  },
  {
   "cell_type": "markdown",
   "metadata": {},
   "source": [
    "Now, we want to add more features for enhanced predictability. To start, we will add a binary predictor to indicate whether the location is \"null\" in the corresponding observation."
   ]
  },
  {
   "cell_type": "code",
   "execution_count": 23,
   "metadata": {},
   "outputs": [],
   "source": [
    "# add binary predictor to indicate whether location is missing\n",
    "clean_train['location_null'] = clean_train['location'].isnull().astype(int)\n",
    "clean_test['location_null'] = clean_test['location'].isnull().astype(int)"
   ]
  },
  {
   "cell_type": "code",
   "execution_count": 24,
   "metadata": {},
   "outputs": [],
   "source": [
    "# how many words in a tweet\n",
    "def count_words(text):\n",
    "    if isinstance(text, str):  # Check if the entry is a string\n",
    "        return len(text.split())  # Split the string by whitespace and count the parts\n",
    "    else:\n",
    "        return 0 \n",
    "    \n",
    "\n",
    "clean_train['text_word_count'] = clean_train['text'].apply(count_words)\n",
    "clean_test['text_word_count'] = clean_test['text'].apply(count_words)"
   ]
  },
  {
   "cell_type": "code",
   "execution_count": 25,
   "metadata": {},
   "outputs": [],
   "source": [
    "# Capitalization ratio\n",
    "def capitalization_ratio(text):\n",
    "    if isinstance(text, str) and len(text) > 0:  # Check if it's a string and not empty\n",
    "        uppercase_count = sum(1 for char in text if char.isupper())  # Count uppercase characters\n",
    "        total_count = sum(1 for char in text if char.isalpha())  # Count total alphabetic characters\n",
    "        return uppercase_count / total_count if total_count > 0 else 0  # Return ratio\n",
    "    else:\n",
    "        return 0\n",
    "\n",
    "clean_train['capitalization_ratio'] = clean_train['text'].apply(count_words)\n",
    "clean_test['capitalization_ratio'] = clean_test['text'].apply(count_words)"
   ]
  },
  {
   "cell_type": "code",
   "execution_count": 26,
   "metadata": {},
   "outputs": [
    {
     "name": "stdout",
     "output_type": "stream",
     "text": [
      "1145\n",
      "1990\n",
      "447\n",
      "843\n"
     ]
    }
   ],
   "source": [
    "# add binary indicator to indicate if text contains top keywords associated with real tweets\n",
    "\n",
    "words_assoc_real_news = pd.read_pickle(\"words_assoc_real_news.pkl\")\n",
    "words_assoc_fake_news = pd.read_pickle(\"words_assoc_fake_news.pkl\")\n",
    "\n",
    "def check_keyword_match_real(keyword):\n",
    "    return 1 if keyword in words_assoc_real_news else 0\n",
    "\n",
    "def check_keyword_match_fake(keyword):\n",
    "    return 1 if keyword in words_assoc_fake_news else 0\n",
    "\n",
    "clean_train['keyword_assoc_real_news'] = clean_train['keyword'].apply(check_keyword_match_real)\n",
    "clean_train['keyword_assoc_fake_news'] = clean_train['keyword'].apply(check_keyword_match_fake)\n",
    "\n",
    "clean_test['keyword_assoc_real_news'] = clean_test['keyword'].apply(check_keyword_match_real)\n",
    "clean_test['keyword_assoc_fake_news'] = clean_test['keyword'].apply(check_keyword_match_fake)\n",
    "\n",
    "print(clean_train['keyword_assoc_real_news'].sum())\n",
    "print(clean_train['keyword_assoc_fake_news'].sum())\n",
    "\n",
    "print(clean_test['keyword_assoc_real_news'].sum())\n",
    "print(clean_test['keyword_assoc_fake_news'].sum())"
   ]
  },
  {
   "cell_type": "markdown",
   "metadata": {},
   "source": [
    "Now, save these clean test and train datasets with the new features included. This is done below. "
   ]
  },
  {
   "cell_type": "code",
   "execution_count": 27,
   "metadata": {},
   "outputs": [],
   "source": [
    "# save after all features have been added\n",
    "clean_train.to_pickle(\"clean_train_FE.pkl\")\n",
    "clean_test.to_pickle(\"clean_test_FE.pkl\")"
   ]
  }
 ],
 "metadata": {
  "kernelspec": {
   "display_name": "Python 3",
   "language": "python",
   "name": "python3"
  },
  "language_info": {
   "codemirror_mode": {
    "name": "ipython",
    "version": 3
   },
   "file_extension": ".py",
   "mimetype": "text/x-python",
   "name": "python",
   "nbconvert_exporter": "python",
   "pygments_lexer": "ipython3",
   "version": "3.12.2"
  }
 },
 "nbformat": 4,
 "nbformat_minor": 2
}
