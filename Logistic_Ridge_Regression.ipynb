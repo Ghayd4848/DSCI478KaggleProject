{
 "cells": [
  {
   "cell_type": "markdown",
   "metadata": {},
   "source": [
    "## Logistic Ridge Regression Implementation\n",
    "\n",
    "Naive implementation of a logistic regression to compare to more advanced model approaches"
   ]
  },
  {
   "cell_type": "code",
   "execution_count": 48,
   "metadata": {},
   "outputs": [],
   "source": [
    "from joblib import load\n",
    "from sklearn.linear_model import LogisticRegression\n",
    "from sklearn.metrics import accuracy_score, classification_report, f1_score\n",
    "from sklearn.model_selection import train_test_split\n",
    "\n",
    "# Load the saved TF-IDF feature matrix and target variable for the training data\n",
    "X_train_tfidf_loaded = load('X_train_tfidf.joblib')\n",
    "y_train_tfidf_loaded = load('y_train_tfidf.joblib')\n",
    "X_test_tfidf_loaded = load('X_test_tfidf.joblib')\n",
    "\n",
    "# Load the saved Count Vectorizer feature matrix and target varible for the training data\n",
    "X_train_count_loaded = load('X_train_count.joblib')\n",
    "y_train_count_loaded = load('y_train_count.joblib')\n",
    "X_test_count_loaded = load('X_test_count.joblib')"
   ]
  },
  {
   "cell_type": "markdown",
   "metadata": {},
   "source": [
    "Now, handling only the TF-IDF Vectorized data, split the X_train into training and validation."
   ]
  },
  {
   "cell_type": "code",
   "execution_count": 49,
   "metadata": {},
   "outputs": [],
   "source": [
    "# Split the training data into training and validation sets\n",
    "X_train_tfidf, X_val_tfidf, y_train_tfidf, y_val_tfidf = train_test_split(X_train_tfidf_loaded, y_train_tfidf_loaded, test_size=0.2, random_state=42)"
   ]
  },
  {
   "cell_type": "code",
   "execution_count": 50,
   "metadata": {},
   "outputs": [
    {
     "name": "stdout",
     "output_type": "stream",
     "text": [
      "Validation Accuracy: 0.7968232958305758\n",
      "Validation F1 Score: 0.7926456423688162\n",
      "Validation Classification Report:\n",
      "              precision    recall  f1-score   support\n",
      "\n",
      "           0       0.78      0.89      0.84       874\n",
      "           1       0.82      0.66      0.73       637\n",
      "\n",
      "    accuracy                           0.80      1511\n",
      "   macro avg       0.80      0.78      0.78      1511\n",
      "weighted avg       0.80      0.80      0.79      1511\n",
      "\n"
     ]
    }
   ],
   "source": [
    "# Fit model with `X_train` and `y_train`\n",
    "ridge_logistic_model = LogisticRegression(penalty='l2', solver='liblinear')\n",
    "ridge_logistic_model.fit(X_train_tfidf, y_train_tfidf)\n",
    "\n",
    "# Evaluate on the validation set\n",
    "y_val_pred = ridge_logistic_model.predict(X_val_tfidf)\n",
    "\n",
    "# Evaluate the model performance\n",
    "val_accuracy = accuracy_score(y_val_tfidf, y_val_pred)\n",
    "val_f1_score = f1_score(y_val_tfidf, y_val_pred, average='weighted')  # Use 'macro' or 'micro' based on your needs\n",
    "val_report = classification_report(y_val_tfidf, y_val_pred)\n",
    "\n",
    "print(f'Validation Accuracy: {val_accuracy}')\n",
    "print(f'Validation F1 Score: {val_f1_score}')\n",
    "print('Validation Classification Report:')\n",
    "print(val_report)"
   ]
  },
  {
   "cell_type": "markdown",
   "metadata": {},
   "source": [
    "Now, handling only the Count Vectorized data, split the X_train into training and validation."
   ]
  },
  {
   "cell_type": "code",
   "execution_count": 51,
   "metadata": {},
   "outputs": [],
   "source": [
    "# Split the training data into training and validation sets\n",
    "X_train_count, X_val_count, y_train_count, y_val_count = train_test_split(X_train_count_loaded, y_train_count_loaded, test_size=0.2, random_state=42)"
   ]
  },
  {
   "cell_type": "code",
   "execution_count": 52,
   "metadata": {},
   "outputs": [
    {
     "name": "stdout",
     "output_type": "stream",
     "text": [
      "Validation Accuracy: 0.785572468563865\n",
      "Validation F1 Score: 0.7839712435285466\n",
      "Validation Classification Report:\n",
      "              precision    recall  f1-score   support\n",
      "\n",
      "           0       0.80      0.85      0.82       874\n",
      "           1       0.77      0.70      0.73       637\n",
      "\n",
      "    accuracy                           0.79      1511\n",
      "   macro avg       0.78      0.77      0.78      1511\n",
      "weighted avg       0.78      0.79      0.78      1511\n",
      "\n"
     ]
    }
   ],
   "source": [
    "# Fit model with `X_train` and `y_train`\n",
    "ridge_logistic_model = LogisticRegression(penalty='l2', solver='liblinear')\n",
    "ridge_logistic_model.fit(X_train_count, y_train_count)\n",
    "\n",
    "# Evaluate on the validation set\n",
    "y_val_pred_count = ridge_logistic_model.predict(X_val_count)\n",
    "\n",
    "# Evaluate the model performance\n",
    "val_accuracy = accuracy_score(y_val_count, y_val_pred_count)\n",
    "val_f1_score = f1_score(y_val_count, y_val_pred_count, average='weighted')  # Use 'macro' or 'micro' based on your needs\n",
    "val_report = classification_report(y_val_count, y_val_pred_count)\n",
    "\n",
    "print(f'Validation Accuracy: {val_accuracy}')\n",
    "print(f'Validation F1 Score: {val_f1_score}')\n",
    "print('Validation Classification Report:')\n",
    "print(val_report)"
   ]
  }
 ],
 "metadata": {
  "kernelspec": {
   "display_name": "Python 3",
   "language": "python",
   "name": "python3"
  },
  "language_info": {
   "codemirror_mode": {
    "name": "ipython",
    "version": 3
   },
   "file_extension": ".py",
   "mimetype": "text/x-python",
   "name": "python",
   "nbconvert_exporter": "python",
   "pygments_lexer": "ipython3",
   "version": "3.12.1"
  }
 },
 "nbformat": 4,
 "nbformat_minor": 2
}
