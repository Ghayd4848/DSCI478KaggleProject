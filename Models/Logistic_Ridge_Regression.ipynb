{
 "cells": [
  {
   "cell_type": "markdown",
   "metadata": {},
   "source": [
    "## Logistic Ridge Regression Implementation\n",
    "\n",
    "Naive implementation of a logistic regression to compare to more advanced model approaches"
   ]
  },
  {
   "cell_type": "code",
   "execution_count": 1,
   "metadata": {},
   "outputs": [],
   "source": [
    "from joblib import load\n",
    "#from pickle import dump, load\n",
    "from sklearn.linear_model import LogisticRegression\n",
    "from sklearn.metrics import accuracy_score, classification_report, f1_score\n",
    "from sklearn.model_selection import train_test_split\n",
    "import pandas as pd\n",
    "\n",
    "\n",
    "# Load the saved TF-IDF feature matrix and target variable for the training data\n",
    "model_train_tfidf = load('../pkl_files/model_train_tfidf.pkl')\n",
    "target = load('../pkl_files/target.pkl')\n",
    "model_test_tfidf = load('../pkl_files/model_test_tfidf.pkl')\n",
    "\n",
    "# Load the saved Count Vectorizer feature matrix and target varible for the training data\n",
    "model_train_count = load('../pkl_files/model_train_count.pkl')\n",
    "target = load('../pkl_files/target.pkl')\n",
    "model_test_count = load('../pkl_files/model_test_count.pkl')\n"
   ]
  },
  {
   "cell_type": "markdown",
   "metadata": {},
   "source": [
    "Now, handling only the TF-IDF Vectorized data, split the X_train into training and validation."
   ]
  },
  {
   "cell_type": "code",
   "execution_count": 2,
   "metadata": {},
   "outputs": [],
   "source": [
    "# Split the training data into training and validation sets\n",
    "X_validation_train_tfidf, X_validation_test_tfidf, y_validation_train_tfidf, y_validation_test_tfidf = train_test_split(model_train_tfidf, target, test_size=0.2, random_state=42)"
   ]
  },
  {
   "cell_type": "markdown",
   "metadata": {},
   "source": [
    "Implement a logistic ridge regression model using the TF-IDF Vectorized data"
   ]
  },
  {
   "cell_type": "code",
   "execution_count": null,
   "metadata": {},
   "outputs": [
    {
     "name": "stdout",
     "output_type": "stream",
     "text": [
      "Validation Accuracy: 0.768220617202889\n",
      "Validation F1 Score: 0.7675215881936576\n",
      "Validation Classification Report:\n",
      "              precision    recall  f1-score   support\n",
      "\n",
      "           0       0.79      0.81      0.80       874\n",
      "           1       0.74      0.71      0.72       649\n",
      "\n",
      "    accuracy                           0.77      1523\n",
      "   macro avg       0.76      0.76      0.76      1523\n",
      "weighted avg       0.77      0.77      0.77      1523\n",
      "\n"
     ]
    }
   ],
   "source": [
    "# Fit model with `X_train` and `y_train`\n",
    "ridge_logistic_model = LogisticRegression(penalty='l2', solver='liblinear')\n",
    "ridge_logistic_model.fit(X_validation_train_tfidf, y_validation_train_tfidf)\n",
    "\n",
    "# Evaluate on the validation set\n",
    "y_val_pred_tfidf = ridge_logistic_model.predict(X_validation_test_tfidf)\n",
    "\n",
    "# Evaluate the model performance\n",
    "val_accuracy = accuracy_score(y_validation_test_tfidf, y_val_pred_tfidf)\n",
    "val_f1_score = f1_score(y_validation_test_tfidf, y_val_pred_tfidf, average='weighted')  \n",
    "val_report = classification_report(y_validation_test_tfidf, y_val_pred_tfidf)\n",
    "\n",
    "print(f'Validation Accuracy: {val_accuracy}')\n",
    "print(f'Validation F1 Score: {val_f1_score}')\n",
    "print('Validation Classification Report:')\n",
    "print(val_report)"
   ]
  },
  {
   "cell_type": "markdown",
   "metadata": {},
   "source": [
    "Fit model using entire TF-IDF training set to predict testing target values"
   ]
  },
  {
   "cell_type": "code",
   "execution_count": 4,
   "metadata": {},
   "outputs": [],
   "source": [
    "# Fit model again using \n",
    "ridge_logistic_model.fit(model_train_tfidf, target)\n",
    "\n",
    "# Evaluate on the validation set\n",
    "y_ridge_log_pred_tfidf = ridge_logistic_model.predict(model_test_tfidf)\n",
    "\n",
    "# read in submission CSV\n",
    "tfidf_ridge_log_reg_submission = pd.read_csv(\"../Data/sample_submission.csv\")\n",
    "\n",
    "# replace empty target column with predicted values\n",
    "tfidf_ridge_log_reg_submission['target'] = y_ridge_log_pred_tfidf\n",
    "\n",
    "# Save results for submission\n",
    "tfidf_ridge_log_reg_submission.to_csv('../csv_files/tfidf_ridge_log_reg_submission.csv', index=False)"
   ]
  },
  {
   "cell_type": "markdown",
   "metadata": {},
   "source": [
    "Now, handling only the Count Vectorized data, split the X_train into training and validation."
   ]
  },
  {
   "cell_type": "code",
   "execution_count": 5,
   "metadata": {},
   "outputs": [],
   "source": [
    "# Split the training data into training and validation sets\n",
    "X_validation_train_count, X_validation_test_count, y_validation_train_count, y_validation_test_count = train_test_split(model_train_count, target, test_size=0.2, random_state=42)"
   ]
  },
  {
   "cell_type": "markdown",
   "metadata": {},
   "source": [
    "Implement a logistic ridge regression model using the Count Vectorized data"
   ]
  },
  {
   "cell_type": "code",
   "execution_count": 6,
   "metadata": {},
   "outputs": [
    {
     "name": "stdout",
     "output_type": "stream",
     "text": [
      "Validation Accuracy: 0.7767564018384767\n",
      "Validation F1 Score: 0.7756428847274106\n",
      "Validation Classification Report:\n",
      "              precision    recall  f1-score   support\n",
      "\n",
      "           0       0.79      0.83      0.81       874\n",
      "           1       0.75      0.71      0.73       649\n",
      "\n",
      "    accuracy                           0.78      1523\n",
      "   macro avg       0.77      0.77      0.77      1523\n",
      "weighted avg       0.78      0.78      0.78      1523\n",
      "\n"
     ]
    }
   ],
   "source": [
    "# Fit model with `X_train` and `y_train`\n",
    "ridge_logistic_model = LogisticRegression(penalty='l2', solver='liblinear')\n",
    "ridge_logistic_model.fit(X_validation_train_count, y_validation_train_count)\n",
    "\n",
    "# Evaluate on the validation set\n",
    "y_val_pred_count = ridge_logistic_model.predict(X_validation_test_count)\n",
    "\n",
    "# Evaluate the model performance\n",
    "val_accuracy = accuracy_score(y_validation_test_count, y_val_pred_count)\n",
    "val_f1_score = f1_score(y_validation_test_count, y_val_pred_count, average='weighted')  # Use 'macro' or 'micro' based on your needs\n",
    "val_report = classification_report(y_validation_test_count, y_val_pred_count)\n",
    "\n",
    "print(f'Validation Accuracy: {val_accuracy}')\n",
    "print(f'Validation F1 Score: {val_f1_score}')\n",
    "print('Validation Classification Report:')\n",
    "print(val_report)"
   ]
  },
  {
   "cell_type": "markdown",
   "metadata": {},
   "source": [
    "Fit model using entire CountVectorizer training set to predict testing target values"
   ]
  },
  {
   "cell_type": "code",
   "execution_count": 7,
   "metadata": {},
   "outputs": [],
   "source": [
    "# Fit model again using \n",
    "ridge_logistic_model.fit(model_train_count, target)\n",
    "\n",
    "# Evaluate on the validation set\n",
    "y_ridge_log_pred_count = ridge_logistic_model.predict(model_test_count)\n",
    "\n",
    "# read in submission CSV\n",
    "count_ridge_log_reg_submission = pd.read_csv(\"../Data/sample_submission.csv\")\n",
    "\n",
    "# replace empty target column with predicted values\n",
    "count_ridge_log_reg_submission['target'] = y_ridge_log_pred_count\n",
    "\n",
    "# Save results for submission\n",
    "count_ridge_log_reg_submission.to_csv('../csv_files/count_ridge_log_reg_submission.csv', index=False)"
   ]
  }
 ],
 "metadata": {
  "kernelspec": {
   "display_name": "Python 3",
   "language": "python",
   "name": "python3"
  },
  "language_info": {
   "codemirror_mode": {
    "name": "ipython",
    "version": 3
   },
   "file_extension": ".py",
   "mimetype": "text/x-python",
   "name": "python",
   "nbconvert_exporter": "python",
   "pygments_lexer": "ipython3",
   "version": "3.11.2"
  }
 },
 "nbformat": 4,
 "nbformat_minor": 2
}
