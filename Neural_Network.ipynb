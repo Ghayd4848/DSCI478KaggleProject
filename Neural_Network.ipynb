{
 "cells": [
  {
   "cell_type": "markdown",
   "metadata": {},
   "source": [
    "## Implementation of a Neural Network"
   ]
  },
  {
   "cell_type": "code",
   "execution_count": 2,
   "metadata": {},
   "outputs": [],
   "source": [
    "import numpy as np\n",
    "import pandas as pd\n",
    "from sklearn.svm import SVC\n",
    "from sklearn.model_selection import train_test_split\n",
    "from sklearn.feature_extraction.text import TfidfVectorizer, CountVectorizer\n",
    "from sklearn.metrics import classification_report, accuracy_score, confusion_matrix\n",
    "from sklearn.neural_network import MLPClassifier\n",
    "from pickle import load\n",
    "from joblib import load\n",
    "\n",
    "# Load in the target once, which can be used for both vectorizers\n",
    "with open('target.pkl', 'rb') as f:\n",
    "    target = load(f)\n",
    "\n",
    "# Load the saved TF-IDF feature matrix and target variable for the training data\n",
    "with open('model_train_tfidf.pkl', 'rb') as f:\n",
    "    model_train_tfidf = load(f)\n",
    "with open('model_test_tfidf.pkl', 'rb') as f:\n",
    "    model_test_tfidf = load(f)\n",
    "\n",
    "# Load the saved Count Vectorizer feature matrix and target varible for the training data\n",
    "with open('model_train_count.pkl', 'rb') as f:\n",
    "    model_train_count = load(f)\n",
    "with open('model_test_count.pkl', 'rb') as f:\n",
    "    model_test_count = load(f)"
   ]
  },
  {
   "cell_type": "code",
   "execution_count": 3,
   "metadata": {},
   "outputs": [],
   "source": [
    "# Split the training data into training and validation sets\n",
    "X_validation_train_tfidf, X_validation_test_tfidf, y_validation_train_tfidf, y_validation_test_tfidf = train_test_split(model_train_tfidf, target, test_size=0.2, random_state=42)"
   ]
  },
  {
   "cell_type": "code",
   "execution_count": 4,
   "metadata": {},
   "outputs": [
    {
     "name": "stdout",
     "output_type": "stream",
     "text": [
      "Iteration 1, loss = 0.68393279\n",
      "Validation score: 0.569787\n",
      "Iteration 2, loss = 0.68304404\n",
      "Validation score: 0.569787\n",
      "Iteration 3, loss = 0.68270592\n",
      "Validation score: 0.569787\n",
      "Iteration 4, loss = 0.68135719\n",
      "Validation score: 0.569787\n",
      "F1: 0.4185\n"
     ]
    },
    {
     "name": "stderr",
     "output_type": "stream",
     "text": [
      "/Library/Frameworks/Python.framework/Versions/3.12/lib/python3.12/site-packages/sklearn/neural_network/_multilayer_perceptron.py:698: UserWarning: Training interrupted by user.\n",
      "  warnings.warn(\"Training interrupted by user.\")\n"
     ]
    }
   ],
   "source": [
    "mlp_tfidf = MLPClassifier(hidden_layer_sizes=(112,24),  # Two hidden layers, with 512 and 256 neurons respectively     \n",
    "                    solver='sgd',                 # SGD optimizer\n",
    "                    alpha = 0.0001,                # default for l2 (ridge)\n",
    "                    max_iter=200,                # Maximum number of iterations\n",
    "                    random_state=42,             # Random seed for reproducibility\n",
    "                    batch_size=64,               # Batch size for gradient descent\n",
    "                    learning_rate='adaptive',    # Adaptive learning rate\n",
    "                    learning_rate_init = 0.01,\n",
    "                    momentum = 0.9,\n",
    "                    nesterovs_momentum = True,\n",
    "                    early_stopping = True,\n",
    "                    warm_start=False,            # Whether to reuse the previous solution\n",
    "                    tol=1e-4,                    # Tolerance for stopping\n",
    "                    verbose=True)       \n",
    "\n",
    "mlp_tfidf.fit(X_validation_train_tfidf, y_validation_train_tfidf)\n",
    "\n",
    "# Make predictions on the test set\n",
    "y_val_pred_tfidf = mlp_tfidf.predict(X_validation_test_tfidf)\n",
    "\n",
    "# Evaluate the model performance (e.g., accuracy)\n",
    "from sklearn.metrics import f1_score\n",
    "f1score = f1_score(y_validation_test_tfidf, y_val_pred_tfidf, average='weighted')\n",
    "\n",
    "print(f\"F1: {f1score:.4f}\")\n",
    "\n",
    "#joblib.dump(mlp, 'mlp_model.pkl')"
   ]
  }
 ],
 "metadata": {
  "kernelspec": {
   "display_name": "Python 3",
   "language": "python",
   "name": "python3"
  },
  "language_info": {
   "codemirror_mode": {
    "name": "ipython",
    "version": 3
   },
   "file_extension": ".py",
   "mimetype": "text/x-python",
   "name": "python",
   "nbconvert_exporter": "python",
   "pygments_lexer": "ipython3",
   "version": "3.12.1"
  }
 },
 "nbformat": 4,
 "nbformat_minor": 2
}
