{
 "cells": [
  {
   "cell_type": "markdown",
   "metadata": {},
   "source": [
    "## Implementation of a Neural Network"
   ]
  },
  {
   "cell_type": "code",
   "execution_count": 21,
   "metadata": {},
   "outputs": [],
   "source": [
    "import numpy as np\n",
    "import pandas as pd\n",
    "from sklearn.svm import SVC\n",
    "from sklearn.model_selection import train_test_split\n",
    "from sklearn.feature_extraction.text import TfidfVectorizer, CountVectorizer\n",
    "from sklearn.metrics import classification_report, accuracy_score, confusion_matrix\n",
    "from sklearn.neural_network import MLPClassifier\n",
    "from joblib import load\n",
    "\n",
    "# Load the saved TF-IDF feature matrix and target variable for the training data\n",
    "X_train_tfidf_loaded = load('X_train_tfidf.joblib')\n",
    "y_train_tfidf_loaded = load('y_train_tfidf.joblib')\n",
    "X_test_tfidf_loaded = load('X_test_tfidf.joblib')\n",
    "\n",
    "# Load the saved Count Vectorizer feature matrix and target varible for the training data\n",
    "X_train_count_loaded = load('X_train_count.joblib')\n",
    "y_train_count_loaded = load('y_train_count.joblib')\n",
    "X_test_count_loaded = load('X_test_count.joblib')"
   ]
  },
  {
   "cell_type": "code",
   "execution_count": 22,
   "metadata": {},
   "outputs": [],
   "source": [
    "# Split the training data into training and validation sets\n",
    "X_train_tfidf, X_val_tfidf, y_train_tfidf, y_val_tfidf = train_test_split(X_train_tfidf_loaded, y_train_tfidf_loaded, test_size=0.2, random_state=42)"
   ]
  },
  {
   "cell_type": "code",
   "execution_count": null,
   "metadata": {},
   "outputs": [
    {
     "name": "stdout",
     "output_type": "stream",
     "text": [
      "Iteration 1, loss = 0.67977668\n",
      "Validation score: 0.596059\n",
      "Iteration 2, loss = 0.58769361\n",
      "Validation score: 0.806240\n",
      "Iteration 3, loss = 0.43093790\n",
      "Validation score: 0.786535\n",
      "Iteration 4, loss = 0.36436538\n",
      "Validation score: 0.791461\n",
      "Iteration 5, loss = 0.29765078\n",
      "Validation score: 0.742200\n",
      "Iteration 6, loss = 0.29951652\n",
      "Validation score: 0.809524\n",
      "Iteration 7, loss = 0.26070039\n",
      "Validation score: 0.665025\n",
      "Iteration 8, loss = 0.23741486\n",
      "Validation score: 0.637110\n",
      "Iteration 9, loss = 0.21085491\n",
      "Validation score: 0.722496\n",
      "Iteration 10, loss = 0.19289295\n",
      "Validation score: 0.750411\n",
      "Iteration 11, loss = 0.28151177\n",
      "Validation score: 0.555008\n",
      "Iteration 12, loss = 0.41296721\n",
      "Validation score: 0.778325\n",
      "Iteration 13, loss = 0.68779337\n",
      "Validation score: 0.569787\n",
      "Iteration 14, loss = 0.68469477\n",
      "Validation score: 0.569787\n",
      "Iteration 15, loss = 0.68587927\n",
      "Validation score: 0.569787\n",
      "Iteration 16, loss = 0.68513031\n",
      "Validation score: 0.569787\n",
      "Iteration 17, loss = 0.68499241\n",
      "Validation score: 0.569787\n",
      "Validation score did not improve more than tol=0.000100 for 10 consecutive epochs. Setting learning rate to 0.020000\n",
      "Iteration 18, loss = 0.68433586\n",
      "Validation score: 0.569787\n",
      "Iteration 19, loss = 0.68430618\n",
      "Validation score: 0.569787\n",
      "Iteration 20, loss = 0.68420280\n",
      "Validation score: 0.569787\n",
      "Iteration 21, loss = 0.68447744\n",
      "Validation score: 0.569787\n",
      "Iteration 22, loss = 0.68430509\n",
      "Validation score: 0.569787\n",
      "Iteration 23, loss = 0.68429363\n",
      "Validation score: 0.569787\n",
      "Iteration 24, loss = 0.68418256\n",
      "Validation score: 0.569787\n",
      "Iteration 25, loss = 0.68414912\n",
      "Validation score: 0.569787\n",
      "Iteration 26, loss = 0.68433450\n",
      "Validation score: 0.569787\n",
      "F1: 0.7835\n"
     ]
    },
    {
     "name": "stderr",
     "output_type": "stream",
     "text": [
      "/Library/Frameworks/Python.framework/Versions/3.12/lib/python3.12/site-packages/sklearn/neural_network/_multilayer_perceptron.py:698: UserWarning: Training interrupted by user.\n",
      "  warnings.warn(\"Training interrupted by user.\")\n"
     ]
    }
   ],
   "source": [
    "mlp = MLPClassifier(hidden_layer_sizes=(112,24),  # Two hidden layers, with 512 and 256 neurons respectively     \n",
    "                    solver='sgd',                 # SGD optimizer\n",
    "                    alpha = 0.0001,                # default for l2 (ridge)\n",
    "                    max_iter=200,                # Maximum number of iterations\n",
    "                    random_state=42,             # Random seed for reproducibility\n",
    "                    batch_size=64,               # Batch size for gradient descent\n",
    "                    learning_rate='adaptive',    # Adaptive learning rate\n",
    "                    learning_rate_init = 0.01,\n",
    "                    momentum = 0.9,\n",
    "                    nesterovs_momentum = True,\n",
    "                    early_stopping = True,\n",
    "                    warm_start=False,            # Whether to reuse the previous solution\n",
    "                    tol=1e-4,                    # Tolerance for stopping\n",
    "                    verbose=True)       \n",
    "\n",
    "mlp.fit(X_train_tfidf, y_train_tfidf)\n",
    "\n",
    "# Make predictions on the test set\n",
    "y_val_pred_tfidf = mlp.predict(X_val_tfidf)\n",
    "\n",
    "# Evaluate the model performance (e.g., accuracy)\n",
    "from sklearn.metrics import f1_score\n",
    "f1score = f1_score(y_val_tfidf, y_val_pred_tfidf, average='weighted')\n",
    "\n",
    "print(f\"F1: {f1score:.4f}\")\n",
    "\n",
    "#joblib.dump(mlp, 'mlp_model.pkl')"
   ]
  }
 ],
 "metadata": {
  "kernelspec": {
   "display_name": "Python 3",
   "language": "python",
   "name": "python3"
  },
  "language_info": {
   "codemirror_mode": {
    "name": "ipython",
    "version": 3
   },
   "file_extension": ".py",
   "mimetype": "text/x-python",
   "name": "python",
   "nbconvert_exporter": "python",
   "pygments_lexer": "ipython3",
   "version": "3.12.1"
  }
 },
 "nbformat": 4,
 "nbformat_minor": 2
}
