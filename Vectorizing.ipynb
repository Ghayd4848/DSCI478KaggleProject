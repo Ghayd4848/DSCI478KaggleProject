{
 "cells": [
  {
   "cell_type": "markdown",
   "metadata": {},
   "source": [
    "## TF-IDF and Count Vectorizer Implementation"
   ]
  },
  {
   "cell_type": "code",
   "execution_count": null,
   "metadata": {},
   "outputs": [],
   "source": [
    "import numpy as np\n",
    "import pandas as pd\n",
    "from sklearn.feature_extraction.text import TfidfVectorizer\n",
    "from sklearn.feature_extraction.text import CountVectorizer\n",
    "from scipy.sparse import hstack\n",
    "from pickle import load\n",
    "from sklearn.metrics import accuracy_score\n",
    "\n",
    "# load in saved pickle training and testing files\n",
    "with open('clean_train.pkl', 'rb') as f:\n",
    "    clean_train = load(f)\n",
    "\n",
    "with open('clean_test.pkl', 'rb') as f:\n",
    "    clean_test = load(f)\n",
    "\n",
    "# set target as the training y values for clarity and save to repo\n",
    "target = clean_train[\"target\"]\n",
    "dump(target, 'target.pkl')\n",
    "\n",
    "# load in clean_train.fe and clean_test.fe 1 time\n"
   ]
  },
  {
   "cell_type": "markdown",
   "metadata": {},
   "source": [
    "## Apply TF-IDF Vectorizer\n"
   ]
  },
  {
   "cell_type": "code",
   "execution_count": null,
   "metadata": {},
   "outputs": [],
   "source": [
    "# Initialize the TfidfVectorizer for text columns\n",
    "tfidf_vectorizer = TfidfVectorizer(stop_words='english')\n",
    "\n",
    "# Combine the columns containing text into one before applying TD-IDF Vectorizer\n",
    "data_combined = clean_train[['keyword', 'location', 'text']].agg(' '.join, axis=1)\n",
    "\n",
    "# Vectorize 'keyword', 'location', and 'text' columns for training data\n",
    "X_train_tfidf = tfidf_vectorizer.fit_transform(data_combined)\n",
    "\n",
    "# Check the shape of the resulting feature matrix\n",
    "print(f\"Shape of combined feature matrix: {X_train_tfidf.shape}\")\n",
    "\n",
    "# Save the TF-IDF vectorizer and feature matrix\n",
    "dump(X_train_tfidf, 'X_train_tfidf.joblib')"
   ]
  },
  {
   "cell_type": "markdown",
   "metadata": {},
   "source": [
    "Now, we will combine the feature engineered training data with the TF-IDF vectorized training data."
   ]
  },
  {
   "cell_type": "code",
   "execution_count": null,
   "metadata": {},
   "outputs": [],
   "source": [
    "# merge with clean test fe and save"
   ]
  },
  {
   "cell_type": "markdown",
   "metadata": {},
   "source": [
    "Using the same TD-IDF vectorizer as above, vectorize the text columns in the test dataset."
   ]
  },
  {
   "cell_type": "code",
   "execution_count": null,
   "metadata": {},
   "outputs": [],
   "source": [
    "# Combine the columns containing text into one before applying TD-IDF Vectorizer\n",
    "data_combined_test = clean_test[['keyword', 'location', 'text']].agg(' '.join, axis=1)\n",
    "\n",
    "# Vectorize 'keyword', 'location', and 'text' columns for test data\n",
    "X_test_tfidf = tfidf_vectorizer.transform(data_combined_test)\n",
    "\n",
    "# Check the shape of the resulting feature matrix\n",
    "print(f\"Shape of combined feature matrix: {X_test_tfidf.shape}\")\n",
    "\n",
    "# Save the TF-IDF vectorizer and feature matrix\n",
    "dump(X_test_tfidf, 'X_test_tfidf.joblib')"
   ]
  },
  {
   "cell_type": "markdown",
   "metadata": {},
   "source": [
    "Now, combine the feature engineered test data with the TF-IDF vectorized test data"
   ]
  },
  {
   "cell_type": "code",
   "execution_count": null,
   "metadata": {},
   "outputs": [],
   "source": [
    "# merge with clean test fe and save"
   ]
  },
  {
   "cell_type": "markdown",
   "metadata": {},
   "source": [
    "## Apply CountVectorizer"
   ]
  },
  {
   "cell_type": "code",
   "execution_count": null,
   "metadata": {},
   "outputs": [],
   "source": [
    "# Initialize the CountVectorizer for text columns\n",
    "count_vectorizer = CountVectorizer(stop_words='english')\n",
    "\n",
    "# Vectorize 'keyword', 'location', and 'text' columns for training data using previously generated combined text data\n",
    "X_train_count = count_vectorizer.fit_transform(data_combined)\n",
    "\n",
    "# Check the shape of the resulting feature matrix\n",
    "print(f\"Shape of combined feature matrix: {X_train_count.shape}\")\n",
    "\n",
    "# Save the TF-IDF vectorizer and feature matrix\n",
    "dump(X_train_count, 'X_train_count.joblib')"
   ]
  },
  {
   "cell_type": "markdown",
   "metadata": {},
   "source": [
    "Now, we will combine the feature engineered training data with the Count vectorized training data."
   ]
  },
  {
   "cell_type": "code",
   "execution_count": null,
   "metadata": {},
   "outputs": [],
   "source": [
    "# do above and save as object"
   ]
  },
  {
   "cell_type": "code",
   "execution_count": null,
   "metadata": {},
   "outputs": [],
   "source": [
    "# Vectorize 'keyword', 'location', and 'text' columns for test data using previously generated combined text data\n",
    "X_test_count = count_vectorizer.transform(data_combined_test)\n",
    "\n",
    "# Check the shape of the resulting feature matrix\n",
    "print(f\"Shape of combined feature matrix: {X_test_count.shape}\")\n",
    "\n",
    "# Save the Count vectorizer and feature matrix\n",
    "dump(X_test_count, 'X_test_count.joblib')"
   ]
  },
  {
   "cell_type": "markdown",
   "metadata": {},
   "source": [
    "Now, we will combine the feature engineered test data with the Count vectorized test data."
   ]
  },
  {
   "cell_type": "code",
   "execution_count": null,
   "metadata": {},
   "outputs": [],
   "source": [
    "# do above and save as object"
   ]
  }
 ],
 "metadata": {
  "kernelspec": {
   "display_name": "Python 3",
   "language": "python",
   "name": "python3"
  },
  "language_info": {
   "codemirror_mode": {
    "name": "ipython",
    "version": 3
   },
   "file_extension": ".py",
   "mimetype": "text/x-python",
   "name": "python",
   "nbconvert_exporter": "python",
   "pygments_lexer": "ipython3",
   "version": "3.12.1"
  }
 },
 "nbformat": 4,
 "nbformat_minor": 2
}
