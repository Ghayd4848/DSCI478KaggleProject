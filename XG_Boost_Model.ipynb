{
 "cells": [
  {
   "cell_type": "markdown",
   "metadata": {},
   "source": [
    "# TFIDF XGBoost Model"
   ]
  },
  {
   "cell_type": "code",
   "execution_count": 23,
   "metadata": {},
   "outputs": [
    {
     "data": {
      "text/plain": [
       "0.7069243156199678"
      ]
     },
     "execution_count": 23,
     "metadata": {},
     "output_type": "execute_result"
    }
   ],
   "source": [
    "from joblib import load, dump\n",
    "from xgboost import XGBClassifier\n",
    "from sklearn.model_selection import train_test_split\n",
    "from sklearn.metrics import f1_score\n",
    "import pandas as pd\n",
    "import os\n",
    "\n",
    "# Load TFIDF Cleaned Data\n",
    "X_train_tfidf = load(\"model_train_tfidf.pkl\")\n",
    "y_train_tfidf = load(\"target.pkl\")\n",
    "\n",
    "X_test_tfidf = load(\"model_test_tfidf.pkl\")\n",
    "\n",
    "test_data = pd.read_csv(\"Data/test.csv\") # Load test dataset to get 'id' column\n",
    "\n",
    "# Split into training and validation sets (80% train, 20% validation)\n",
    "X_train, X_val, y_train, y_val = train_test_split(X_train_tfidf, y_train_tfidf, test_size=0.2, random_state=42)\n",
    "\n",
    "# Define the XGBoost model with initial hyperparameters\n",
    "xgb_model = XGBClassifier(\n",
    "    n_estimators=200,\n",
    "    learning_rate=0.1,\n",
    "    max_depth=5,\n",
    "    subsample=0.9,\n",
    "    colsample_bytree=0.9,\n",
    "    scale_pos_weight=1.0,\n",
    "    eval_metric='logloss' \n",
    ")\n",
    "\n",
    "# Train model\n",
    "xgb_model.fit(X_train, y_train)\n",
    "\n",
    "# predictions on the validation set\n",
    "y_val_preds = xgb_model.predict(X_val)\n",
    "\n",
    "# F1 Score\n",
    "f1 = f1_score(y_val, y_val_preds)\n",
    "\n",
    "# Save the trained model\n",
    "model_path = \"xgb_model_tfidf.pkl\" \n",
    "dump(xgb_model, model_path)\n",
    "\n",
    "# Return F1 Score\n",
    "f1"
   ]
  },
  {
   "cell_type": "code",
   "execution_count": 24,
   "metadata": {},
   "outputs": [
    {
     "name": "stdout",
     "output_type": "stream",
     "text": [
      "Submission file preview:\n",
      "   id  target\n",
      "0   0       0\n",
      "1   2       1\n",
      "2   3       1\n",
      "3   9       0\n",
      "4  11       1\n"
     ]
    }
   ],
   "source": [
    "# Generate Predictions for Submission\n",
    "y_test_preds = xgb_model.predict(X_test_tfidf)\n",
    "\n",
    "# Match test_data to X_test_tfidf in size (remove extra rows if necessary)\n",
    "test_data_filtered = test_data.iloc[:len(y_test_preds)].copy()\n",
    "\n",
    "# Create Submission DataFrame\n",
    "submission = pd.DataFrame({'id': test_data_filtered['id'], 'target': y_test_preds})\n",
    "\n",
    "# Save Submission File\n",
    "submission.to_csv(\"xgboost_tfidf_submission.csv\", index=False)\n",
    "\n",
    "# Print first few rows for verification\n",
    "print(\"Submission file preview:\")\n",
    "print(submission.head())"
   ]
  },
  {
   "cell_type": "markdown",
   "metadata": {},
   "source": [
    "# Count Vectorizer XGBoost Model"
   ]
  },
  {
   "cell_type": "code",
   "execution_count": 25,
   "metadata": {},
   "outputs": [
    {
     "data": {
      "text/plain": [
       "0.719482619240097"
      ]
     },
     "execution_count": 25,
     "metadata": {},
     "output_type": "execute_result"
    }
   ],
   "source": [
    "# Load Count Vectorizer Cleaned Data\n",
    "X_train_count = load(\"model_train_count.pkl\")\n",
    "y_train_count = load(\"target.pkl\")\n",
    "\n",
    "X_test_count = load(\"model_test_count.pkl\")\n",
    "\n",
    "test_data = pd.read_csv(\"Data/test.csv\") # Load test dataset to get 'id' column \n",
    "\n",
    "# Split into training and validation sets (80% train, 20% validation)\n",
    "X_train_c, X_val_c, y_train_c, y_val_c = train_test_split(X_train_count, y_train_count, test_size=0.2, random_state=42)\n",
    "\n",
    "# Define the XGBoost model with initial hyperparameters\n",
    "xgb_model = XGBClassifier(\n",
    "    n_estimators=200,\n",
    "    learning_rate=0.1,\n",
    "    max_depth=5,\n",
    "    subsample=0.9,\n",
    "    colsample_bytree=0.9,\n",
    "    scale_pos_weight=1.0,\n",
    "    eval_metric='logloss'  \n",
    ")\n",
    "\n",
    "# Train model\n",
    "xgb_model.fit(X_train_c, y_train_c)\n",
    "\n",
    "# predictions on the validation set\n",
    "y_val_preds_c = xgb_model.predict(X_val_c)\n",
    "\n",
    "# F1 Score\n",
    "f1 = f1_score(y_val_c, y_val_preds_c)\n",
    "\n",
    "# Save the trained model\n",
    "model_path = \"xgb_model_count.pkl\"\n",
    "dump(xgb_model, model_path)\n",
    "\n",
    "# Return F1 Score\n",
    "f1"
   ]
  },
  {
   "cell_type": "code",
   "execution_count": 26,
   "metadata": {},
   "outputs": [
    {
     "name": "stdout",
     "output_type": "stream",
     "text": [
      "Submission file preview:\n",
      "   id  target\n",
      "0   0       1\n",
      "1   2       1\n",
      "2   3       1\n",
      "3   9       0\n",
      "4  11       1\n"
     ]
    }
   ],
   "source": [
    "# Generate Predictions for Submission\n",
    "y_test_preds_c = xgb_model.predict(X_test_count)\n",
    "\n",
    "# Match test_data to X_test_tfidf in size (remove extra rows if necessary)\n",
    "test_data_filtered = test_data.iloc[:len(y_test_preds_c)].copy()\n",
    "\n",
    "# Create Submission DataFrame\n",
    "submission = pd.DataFrame({'id': test_data_filtered['id'], 'target': y_test_preds_c})\n",
    "\n",
    "# Save Submission File\n",
    "submission.to_csv(\"xgboost_count_submission.csv\", index=False)\n",
    "\n",
    "# Print first few rows for verification\n",
    "print(\"Submission file preview:\")\n",
    "print(submission.head())"
   ]
  }
 ],
 "metadata": {
  "kernelspec": {
   "display_name": "base",
   "language": "python",
   "name": "python3"
  },
  "language_info": {
   "codemirror_mode": {
    "name": "ipython",
    "version": 3
   },
   "file_extension": ".py",
   "mimetype": "text/x-python",
   "name": "python",
   "nbconvert_exporter": "python",
   "pygments_lexer": "ipython3",
   "version": "3.12.7"
  }
 },
 "nbformat": 4,
 "nbformat_minor": 2
}
